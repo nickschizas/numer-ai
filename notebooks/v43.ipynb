{
  "nbformat": 4,
  "nbformat_minor": 0,
  "metadata": {
    "colab": {
      "provenance": [],
      "gpuType": "V28"
    },
    "kernelspec": {
      "name": "python3",
      "display_name": "Python 3"
    },
    "language_info": {
      "name": "python"
    },
    "accelerator": "TPU"
  },
  "cells": [
    {
      "cell_type": "code",
      "execution_count": 1,
      "metadata": {
        "id": "XP1SqwYj8apv",
        "colab": {
          "base_uri": "https://localhost:8080/"
        },
        "collapsed": true,
        "outputId": "990dc48c-b755-4964-fde7-ac75789c92e2"
      },
      "outputs": [
        {
          "output_type": "stream",
          "name": "stdout",
          "text": [
            "Collecting numerapi\n",
            "  Downloading numerapi-2.19.1-py3-none-any.whl.metadata (7.0 kB)\n",
            "Requirement already satisfied: requests in /usr/local/lib/python3.10/dist-packages (from numerapi) (2.32.3)\n",
            "Requirement already satisfied: pytz in /usr/local/lib/python3.10/dist-packages (from numerapi) (2024.1)\n",
            "Requirement already satisfied: python-dateutil in /usr/local/lib/python3.10/dist-packages (from numerapi) (2.9.0.post0)\n",
            "Requirement already satisfied: tqdm>=4.29.1 in /usr/local/lib/python3.10/dist-packages (from numerapi) (4.66.5)\n",
            "Requirement already satisfied: click>=7.0 in /usr/local/lib/python3.10/dist-packages (from numerapi) (8.1.7)\n",
            "Requirement already satisfied: pandas>=1.1.0 in /usr/local/lib/python3.10/dist-packages (from numerapi) (2.1.4)\n",
            "Requirement already satisfied: numpy<2,>=1.22.4 in /usr/local/lib/python3.10/dist-packages (from pandas>=1.1.0->numerapi) (1.26.4)\n",
            "Requirement already satisfied: tzdata>=2022.1 in /usr/local/lib/python3.10/dist-packages (from pandas>=1.1.0->numerapi) (2024.1)\n",
            "Requirement already satisfied: six>=1.5 in /usr/local/lib/python3.10/dist-packages (from python-dateutil->numerapi) (1.16.0)\n",
            "Requirement already satisfied: charset-normalizer<4,>=2 in /usr/local/lib/python3.10/dist-packages (from requests->numerapi) (3.3.2)\n",
            "Requirement already satisfied: idna<4,>=2.5 in /usr/local/lib/python3.10/dist-packages (from requests->numerapi) (3.8)\n",
            "Requirement already satisfied: urllib3<3,>=1.21.1 in /usr/local/lib/python3.10/dist-packages (from requests->numerapi) (2.0.7)\n",
            "Requirement already satisfied: certifi>=2017.4.17 in /usr/local/lib/python3.10/dist-packages (from requests->numerapi) (2024.7.4)\n",
            "Downloading numerapi-2.19.1-py3-none-any.whl (27 kB)\n",
            "Installing collected packages: numerapi\n",
            "Successfully installed numerapi-2.19.1\n",
            "Collecting numerai-tools\n",
            "  Downloading numerai_tools-0.1.1-py3-none-any.whl.metadata (1.0 kB)\n",
            "Collecting pandas<=2.1.3,>=1.3.1 (from numerai-tools)\n",
            "  Downloading pandas-2.1.3-cp310-cp310-manylinux_2_17_x86_64.manylinux2014_x86_64.whl.metadata (18 kB)\n",
            "Requirement already satisfied: numpy~=1.26.2 in /usr/local/lib/python3.10/dist-packages (from numerai-tools) (1.26.4)\n",
            "Collecting scipy~=1.11.4 (from numerai-tools)\n",
            "  Downloading scipy-1.11.4-cp310-cp310-manylinux_2_17_x86_64.manylinux2014_x86_64.whl.metadata (60 kB)\n",
            "\u001b[2K     \u001b[90m━━━━━━━━━━━━━━━━━━━━━━━━━━━━━━━━━━━━━━━━\u001b[0m \u001b[32m60.4/60.4 kB\u001b[0m \u001b[31m1.0 MB/s\u001b[0m eta \u001b[36m0:00:00\u001b[0m\n",
            "\u001b[?25hRequirement already satisfied: scikit-learn>=1.3.0 in /usr/local/lib/python3.10/dist-packages (from numerai-tools) (1.3.2)\n",
            "Requirement already satisfied: python-dateutil>=2.8.2 in /usr/local/lib/python3.10/dist-packages (from pandas<=2.1.3,>=1.3.1->numerai-tools) (2.9.0.post0)\n",
            "Requirement already satisfied: pytz>=2020.1 in /usr/local/lib/python3.10/dist-packages (from pandas<=2.1.3,>=1.3.1->numerai-tools) (2024.1)\n",
            "Requirement already satisfied: tzdata>=2022.1 in /usr/local/lib/python3.10/dist-packages (from pandas<=2.1.3,>=1.3.1->numerai-tools) (2024.1)\n",
            "Requirement already satisfied: joblib>=1.1.1 in /usr/local/lib/python3.10/dist-packages (from scikit-learn>=1.3.0->numerai-tools) (1.4.2)\n",
            "Requirement already satisfied: threadpoolctl>=2.0.0 in /usr/local/lib/python3.10/dist-packages (from scikit-learn>=1.3.0->numerai-tools) (3.5.0)\n",
            "Requirement already satisfied: six>=1.5 in /usr/local/lib/python3.10/dist-packages (from python-dateutil>=2.8.2->pandas<=2.1.3,>=1.3.1->numerai-tools) (1.16.0)\n",
            "Downloading numerai_tools-0.1.1-py3-none-any.whl (8.8 kB)\n",
            "Downloading pandas-2.1.3-cp310-cp310-manylinux_2_17_x86_64.manylinux2014_x86_64.whl (12.3 MB)\n",
            "\u001b[2K   \u001b[90m━━━━━━━━━━━━━━━━━━━━━━━━━━━━━━━━━━━━━━━━\u001b[0m \u001b[32m12.3/12.3 MB\u001b[0m \u001b[31m66.7 MB/s\u001b[0m eta \u001b[36m0:00:00\u001b[0m\n",
            "\u001b[?25hDownloading scipy-1.11.4-cp310-cp310-manylinux_2_17_x86_64.manylinux2014_x86_64.whl (36.4 MB)\n",
            "\u001b[2K   \u001b[90m━━━━━━━━━━━━━━━━━━━━━━━━━━━━━━━━━━━━━━━━\u001b[0m \u001b[32m36.4/36.4 MB\u001b[0m \u001b[31m34.4 MB/s\u001b[0m eta \u001b[36m0:00:00\u001b[0m\n",
            "\u001b[?25hInstalling collected packages: scipy, pandas, numerai-tools\n",
            "  Attempting uninstall: scipy\n",
            "    Found existing installation: scipy 1.13.1\n",
            "    Uninstalling scipy-1.13.1:\n",
            "      Successfully uninstalled scipy-1.13.1\n",
            "  Attempting uninstall: pandas\n",
            "    Found existing installation: pandas 2.1.4\n",
            "    Uninstalling pandas-2.1.4:\n",
            "      Successfully uninstalled pandas-2.1.4\n",
            "\u001b[31mERROR: pip's dependency resolver does not currently take into account all the packages that are installed. This behaviour is the source of the following dependency conflicts.\n",
            "google-colab 1.0.0 requires pandas==2.1.4, but you have pandas 2.1.3 which is incompatible.\u001b[0m\u001b[31m\n",
            "\u001b[0mSuccessfully installed numerai-tools-0.1.1 pandas-2.1.3 scipy-1.11.4\n",
            "Collecting lightgbm\n",
            "  Downloading lightgbm-4.5.0-py3-none-manylinux_2_28_x86_64.whl.metadata (17 kB)\n",
            "Requirement already satisfied: numpy>=1.17.0 in /usr/local/lib/python3.10/dist-packages (from lightgbm) (1.26.4)\n",
            "Requirement already satisfied: scipy in /usr/local/lib/python3.10/dist-packages (from lightgbm) (1.11.4)\n",
            "Downloading lightgbm-4.5.0-py3-none-manylinux_2_28_x86_64.whl (3.6 MB)\n",
            "\u001b[2K   \u001b[90m━━━━━━━━━━━━━━━━━━━━━━━━━━━━━━━━━━━━━━━━\u001b[0m \u001b[32m3.6/3.6 MB\u001b[0m \u001b[31m15.8 MB/s\u001b[0m eta \u001b[36m0:00:00\u001b[0m\n",
            "\u001b[?25hInstalling collected packages: lightgbm\n",
            "Successfully installed lightgbm-4.5.0\n"
          ]
        }
      ],
      "source": [
        "!pip install numerapi\n",
        "!pip install numerai-tools\n",
        "!pip install lightgbm"
      ]
    },
    {
      "cell_type": "code",
      "source": [
        "from numerapi import NumerAPI\n",
        "from numerai_tools.scoring import numerai_corr, correlation_contribution\n",
        "\n",
        "import pandas as pd\n",
        "import json\n",
        "\n",
        "import matplotlib.pyplot as plt\n",
        "\n",
        "import lightgbm as lgb\n",
        "\n",
        "api = NumerAPI()"
      ],
      "metadata": {
        "id": "95o9af9XDkXs"
      },
      "execution_count": 16,
      "outputs": []
    },
    {
      "cell_type": "markdown",
      "source": [
        "## Download v4.3 data"
      ],
      "metadata": {
        "id": "AHfPr4DkEZ8d"
      }
    },
    {
      "cell_type": "code",
      "source": [
        "VERSION = 4.3\n",
        "datasets = [dataset for dataset in api.list_datasets() if (dataset.startswith(f'v{VERSION}')) & ~(\"example\" in dataset)]\n",
        "datasets"
      ],
      "metadata": {
        "colab": {
          "base_uri": "https://localhost:8080/"
        },
        "id": "ExYwSMivEdPy",
        "outputId": "10b8163d-49e8-4eae-9286-d7a6d17305d4"
      },
      "execution_count": 53,
      "outputs": [
        {
          "output_type": "execute_result",
          "data": {
            "text/plain": [
              "['v4.3/features.json',\n",
              " 'v4.3/live_benchmark_models.parquet',\n",
              " 'v4.3/live_int8.parquet',\n",
              " 'v4.3/meta_model.parquet',\n",
              " 'v4.3/train_benchmark_models.parquet',\n",
              " 'v4.3/train_int8.parquet',\n",
              " 'v4.3/validation_benchmark_models.parquet',\n",
              " 'v4.3/validation_int8.parquet']"
            ]
          },
          "metadata": {},
          "execution_count": 53
        }
      ]
    },
    {
      "cell_type": "code",
      "source": [
        "%%time\n",
        "for dataset in datasets:\n",
        "  api.download_dataset(dataset)"
      ],
      "metadata": {
        "colab": {
          "base_uri": "https://localhost:8080/"
        },
        "id": "TzFz5uESFdLT",
        "outputId": "65bcc77f-2ed9-4d40-f81e-8961e0a8197e"
      },
      "execution_count": 54,
      "outputs": [
        {
          "output_type": "stream",
          "name": "stderr",
          "text": [
            "v4.3/features.json: 1.12MB [00:00, 5.29MB/s]                          \n",
            "v4.3/live_benchmark_models.parquet: 1.58MB [00:00, 6.41MB/s]                            \n",
            "v4.3/live_int8.parquet: 6.60MB [00:00, 17.0MB/s]                            \n",
            "v4.3/meta_model.parquet: 28.6MB [00:00, 28.7MB/s]                            \n",
            "v4.3/train_benchmark_models.parquet: 563MB [00:22, 24.8MB/s]                           \n",
            "v4.3/train_int8.parquet: 2.10GB [01:16, 27.4MB/s]                            \n",
            "v4.3/validation_benchmark_models.parquet: 878MB [00:35, 24.9MB/s]                           \n",
            "v4.3/validation_int8.parquet: 2.62GB [01:57, 22.3MB/s]                            "
          ]
        },
        {
          "output_type": "stream",
          "name": "stdout",
          "text": [
            "CPU times: user 55.3 s, sys: 11.7 s, total: 1min 6s\n",
            "Wall time: 4min 18s\n"
          ]
        },
        {
          "output_type": "stream",
          "name": "stderr",
          "text": [
            "\n"
          ]
        }
      ]
    },
    {
      "cell_type": "markdown",
      "source": [
        "## Read data"
      ],
      "metadata": {
        "id": "WZaSKEFOLvTy"
      }
    },
    {
      "cell_type": "code",
      "source": [
        "feature_metadata = json.load(open(\"v4.3/features.json\"))\n",
        "for f_set in feature_metadata[\"feature_sets\"]:\n",
        "  print(f\"{f_set} : {len(feature_metadata['feature_sets'][f_set])}\")"
      ],
      "metadata": {
        "colab": {
          "base_uri": "https://localhost:8080/"
        },
        "id": "E4VqjyhgldAZ",
        "outputId": "5ffb5329-f2ac-4461-b296-410ff4e3177c"
      },
      "execution_count": 61,
      "outputs": [
        {
          "output_type": "stream",
          "name": "stdout",
          "text": [
            "small : 42\n",
            "medium : 705\n",
            "all : 2376\n",
            "v2_equivalent_features : 304\n",
            "v3_equivalent_features : 1000\n",
            "fncv3_features : 400\n",
            "intelligence : 35\n",
            "charisma : 290\n",
            "strength : 135\n",
            "dexterity : 51\n",
            "constitution : 335\n",
            "wisdom : 140\n",
            "agility : 145\n",
            "serenity : 95\n",
            "sunshine : 325\n",
            "rain : 666\n",
            "midnight : 244\n"
          ]
        }
      ]
    },
    {
      "cell_type": "code",
      "source": [
        "feature_set = feature_metadata[\"feature_sets\"][\"medium\"]"
      ],
      "metadata": {
        "id": "ZVTjPSN0mGqC"
      },
      "execution_count": 62,
      "outputs": []
    },
    {
      "cell_type": "code",
      "source": [
        "%%time\n",
        "train = pd.read_parquet(\"v4.3/train_int8.parquet\", columns=[\"era\", \"target\"] + feature_set)\n",
        "train.era = train.era.astype(int)\n",
        "# downsample to non-overlapping eras for d20 targets\n",
        "train = train[train[\"era\"].isin(train[\"era\"].unique()[::4])]\n",
        "\n",
        "validation = pd.read_parquet(\"v4.3/validation_int8.parquet\", columns=[\"era\", \"target\", \"data_type\"] + feature_set)\n",
        "validation.era = validation.era.astype(int)\n",
        "validation = validation.loc[validation[\"data_type\"]==\"validation\"]\n",
        "validation.drop(\"data_type\", axis=1, inplace=True)\n",
        "# downsample to non-overlapping eras for d20 targets\n",
        "validation = validation[validation[\"era\"].isin(validation[\"era\"].unique()[::4])]"
      ],
      "metadata": {
        "colab": {
          "base_uri": "https://localhost:8080/"
        },
        "id": "RyrgkZgk2IIl",
        "outputId": "4fcf697f-268d-4801-d10a-6a0cdf1e3004"
      },
      "execution_count": 63,
      "outputs": [
        {
          "output_type": "stream",
          "name": "stdout",
          "text": [
            "CPU times: user 44.1 s, sys: 33.2 s, total: 1min 17s\n",
            "Wall time: 8.18 s\n"
          ]
        }
      ]
    },
    {
      "cell_type": "markdown",
      "source": [
        "## Train a model"
      ],
      "metadata": {
        "id": "lp9dXL67nCqF"
      }
    },
    {
      "cell_type": "code",
      "source": [
        "model = lgb.LGBMRegressor(\n",
        "  verbose=0,\n",
        "  n_estimators=2000,\n",
        "  learning_rate=0.01,\n",
        "  max_depth=5,\n",
        "  num_leaves=2**5-1,\n",
        "  colsample_bytree=0.1\n",
        ")\n",
        "\n",
        "model.fit(\n",
        "  train[feature_set],\n",
        "  train[\"target\"]\n",
        ")"
      ],
      "metadata": {
        "colab": {
          "base_uri": "https://localhost:8080/",
          "height": 127
        },
        "id": "Y0LOBYLY297e",
        "outputId": "3cd6abea-e8d5-40e8-8f69-8670a871a299"
      },
      "execution_count": 64,
      "outputs": [
        {
          "output_type": "stream",
          "name": "stdout",
          "text": [
            "[LightGBM] [Warning] No further splits with positive gain, best gain: -inf\n",
            "[LightGBM] [Warning] No further splits with positive gain, best gain: -inf\n"
          ]
        },
        {
          "output_type": "execute_result",
          "data": {
            "text/plain": [
              "LGBMRegressor(colsample_bytree=0.1, learning_rate=0.01, max_depth=5,\n",
              "              n_estimators=2000, verbose=0)"
            ],
            "text/html": [
              "<style>#sk-container-id-2 {color: black;}#sk-container-id-2 pre{padding: 0;}#sk-container-id-2 div.sk-toggleable {background-color: white;}#sk-container-id-2 label.sk-toggleable__label {cursor: pointer;display: block;width: 100%;margin-bottom: 0;padding: 0.3em;box-sizing: border-box;text-align: center;}#sk-container-id-2 label.sk-toggleable__label-arrow:before {content: \"▸\";float: left;margin-right: 0.25em;color: #696969;}#sk-container-id-2 label.sk-toggleable__label-arrow:hover:before {color: black;}#sk-container-id-2 div.sk-estimator:hover label.sk-toggleable__label-arrow:before {color: black;}#sk-container-id-2 div.sk-toggleable__content {max-height: 0;max-width: 0;overflow: hidden;text-align: left;background-color: #f0f8ff;}#sk-container-id-2 div.sk-toggleable__content pre {margin: 0.2em;color: black;border-radius: 0.25em;background-color: #f0f8ff;}#sk-container-id-2 input.sk-toggleable__control:checked~div.sk-toggleable__content {max-height: 200px;max-width: 100%;overflow: auto;}#sk-container-id-2 input.sk-toggleable__control:checked~label.sk-toggleable__label-arrow:before {content: \"▾\";}#sk-container-id-2 div.sk-estimator input.sk-toggleable__control:checked~label.sk-toggleable__label {background-color: #d4ebff;}#sk-container-id-2 div.sk-label input.sk-toggleable__control:checked~label.sk-toggleable__label {background-color: #d4ebff;}#sk-container-id-2 input.sk-hidden--visually {border: 0;clip: rect(1px 1px 1px 1px);clip: rect(1px, 1px, 1px, 1px);height: 1px;margin: -1px;overflow: hidden;padding: 0;position: absolute;width: 1px;}#sk-container-id-2 div.sk-estimator {font-family: monospace;background-color: #f0f8ff;border: 1px dotted black;border-radius: 0.25em;box-sizing: border-box;margin-bottom: 0.5em;}#sk-container-id-2 div.sk-estimator:hover {background-color: #d4ebff;}#sk-container-id-2 div.sk-parallel-item::after {content: \"\";width: 100%;border-bottom: 1px solid gray;flex-grow: 1;}#sk-container-id-2 div.sk-label:hover label.sk-toggleable__label {background-color: #d4ebff;}#sk-container-id-2 div.sk-serial::before {content: \"\";position: absolute;border-left: 1px solid gray;box-sizing: border-box;top: 0;bottom: 0;left: 50%;z-index: 0;}#sk-container-id-2 div.sk-serial {display: flex;flex-direction: column;align-items: center;background-color: white;padding-right: 0.2em;padding-left: 0.2em;position: relative;}#sk-container-id-2 div.sk-item {position: relative;z-index: 1;}#sk-container-id-2 div.sk-parallel {display: flex;align-items: stretch;justify-content: center;background-color: white;position: relative;}#sk-container-id-2 div.sk-item::before, #sk-container-id-2 div.sk-parallel-item::before {content: \"\";position: absolute;border-left: 1px solid gray;box-sizing: border-box;top: 0;bottom: 0;left: 50%;z-index: -1;}#sk-container-id-2 div.sk-parallel-item {display: flex;flex-direction: column;z-index: 1;position: relative;background-color: white;}#sk-container-id-2 div.sk-parallel-item:first-child::after {align-self: flex-end;width: 50%;}#sk-container-id-2 div.sk-parallel-item:last-child::after {align-self: flex-start;width: 50%;}#sk-container-id-2 div.sk-parallel-item:only-child::after {width: 0;}#sk-container-id-2 div.sk-dashed-wrapped {border: 1px dashed gray;margin: 0 0.4em 0.5em 0.4em;box-sizing: border-box;padding-bottom: 0.4em;background-color: white;}#sk-container-id-2 div.sk-label label {font-family: monospace;font-weight: bold;display: inline-block;line-height: 1.2em;}#sk-container-id-2 div.sk-label-container {text-align: center;}#sk-container-id-2 div.sk-container {/* jupyter's `normalize.less` sets `[hidden] { display: none; }` but bootstrap.min.css set `[hidden] { display: none !important; }` so we also need the `!important` here to be able to override the default hidden behavior on the sphinx rendered scikit-learn.org. See: https://github.com/scikit-learn/scikit-learn/issues/21755 */display: inline-block !important;position: relative;}#sk-container-id-2 div.sk-text-repr-fallback {display: none;}</style><div id=\"sk-container-id-2\" class=\"sk-top-container\"><div class=\"sk-text-repr-fallback\"><pre>LGBMRegressor(colsample_bytree=0.1, learning_rate=0.01, max_depth=5,\n",
              "              n_estimators=2000, verbose=0)</pre><b>In a Jupyter environment, please rerun this cell to show the HTML representation or trust the notebook. <br />On GitHub, the HTML representation is unable to render, please try loading this page with nbviewer.org.</b></div><div class=\"sk-container\" hidden><div class=\"sk-item\"><div class=\"sk-estimator sk-toggleable\"><input class=\"sk-toggleable__control sk-hidden--visually\" id=\"sk-estimator-id-2\" type=\"checkbox\" checked><label for=\"sk-estimator-id-2\" class=\"sk-toggleable__label sk-toggleable__label-arrow\">LGBMRegressor</label><div class=\"sk-toggleable__content\"><pre>LGBMRegressor(colsample_bytree=0.1, learning_rate=0.01, max_depth=5,\n",
              "              n_estimators=2000, verbose=0)</pre></div></div></div></div></div>"
            ]
          },
          "metadata": {},
          "execution_count": 64
        }
      ]
    },
    {
      "cell_type": "markdown",
      "source": [
        "### Evaluate on validation set"
      ],
      "metadata": {
        "id": "95Yfp7tMqB_E"
      }
    },
    {
      "cell_type": "code",
      "source": [
        "last_train_era = int(train[\"era\"].unique()[-1])\n",
        "eras_to_embargo = [era for era in [last_train_era + i for i in range(4)]]\n",
        "validation = validation[~validation[\"era\"].isin(eras_to_embargo)]\n",
        "\n",
        "validation[\"prediction\"] = model.predict(validation[feature_set])\n",
        "\n",
        "per_era_corr = validation.groupby(\"era\").apply(lambda x: numerai_corr(x[[\"prediction\"]].dropna(), x[\"target\"].dropna()))\n",
        "\n",
        "# Compute performance metrics\n",
        "corr_mean = per_era_corr.mean()\n",
        "corr_std = per_era_corr.std(ddof=0)\n",
        "corr_sharpe = corr_mean / corr_std\n",
        "corr_max_drawdown = (per_era_corr.cumsum().expanding(min_periods=1).max() - per_era_corr.cumsum()).max()\n",
        "\n",
        "print(\"corr_mean\", corr_mean.values[0])\n",
        "print(\"corr_std\", corr_std.values[0])\n",
        "print(\"corr_sharpe\", corr_sharpe.values[0])\n",
        "print(\"corr_max_drawdown\", corr_max_drawdown.values[0])"
      ],
      "metadata": {
        "colab": {
          "base_uri": "https://localhost:8080/"
        },
        "id": "UzvTtb9k2cDd",
        "outputId": "69c73a6d-b4b8-46aa-ce84-8b2951990d21"
      },
      "execution_count": 70,
      "outputs": [
        {
          "output_type": "stream",
          "name": "stdout",
          "text": [
            "corr_mean 0.02449115575739677\n",
            "corr_std 0.02142577569537585\n",
            "corr_sharpe 1.1430697355187236\n",
            "corr_max_drawdown 0.06369478241452153\n"
          ]
        }
      ]
    },
    {
      "cell_type": "code",
      "source": [
        "per_era_corr.cumsum().plot(\n",
        "  title=\"Cumulative Validation CORR\",\n",
        "  kind=\"line\",\n",
        "  figsize=(8, 4),\n",
        "  legend=False\n",
        ")"
      ],
      "metadata": {
        "id": "0B-H6-8bwTgh",
        "outputId": "297be78e-238a-4f80-9576-82b565fbd1ac",
        "colab": {
          "base_uri": "https://localhost:8080/",
          "height": 402
        }
      },
      "execution_count": 71,
      "outputs": [
        {
          "output_type": "execute_result",
          "data": {
            "text/plain": [
              "<Axes: title={'center': 'Cumulative Validation CORR'}, xlabel='era'>"
            ]
          },
          "metadata": {},
          "execution_count": 71
        },
        {
          "output_type": "display_data",
          "data": {
            "text/plain": [
              "<Figure size 800x400 with 1 Axes>"
            ],
            "image/png": "[encoded data removed]"
          },
          "metadata": {}
        }
      ]
    },
    {
      "cell_type": "markdown",
      "source": [
        "### Evaluate in train set"
      ],
      "metadata": {
        "id": "WlRQz0KbqGBe"
      }
    },
    {
      "cell_type": "code",
      "source": [
        "train[\"prediction\"] = model.predict(train[feature_set])\n",
        "\n",
        "per_era_corr = train.groupby(\"era\").apply(lambda x: numerai_corr(x[[\"prediction\"]].dropna(), x[\"target\"].dropna()))\n",
        "\n",
        "# Compute performance metrics\n",
        "corr_mean = per_era_corr.mean()\n",
        "corr_std = per_era_corr.std(ddof=0)\n",
        "corr_sharpe = corr_mean / corr_std\n",
        "corr_max_drawdown = (per_era_corr.cumsum().expanding(min_periods=1).max() - per_era_corr.cumsum()).max()\n",
        "\n",
        "print(\"corr_mean\", corr_mean.values[0])\n",
        "print(\"corr_std\", corr_std.values[0])\n",
        "print(\"corr_sharpe\", corr_sharpe.values[0])\n",
        "print(\"corr_max_drawdown\", corr_max_drawdown.values[0])"
      ],
      "metadata": {
        "colab": {
          "base_uri": "https://localhost:8080/"
        },
        "id": "5Kgvl5typM6W",
        "outputId": "f031b3b2-009e-4330-f023-e925926d322c"
      },
      "execution_count": 66,
      "outputs": [
        {
          "output_type": "stream",
          "name": "stdout",
          "text": [
            "corr_mean 0.21408010487768867\n",
            "corr_std 0.023484089559374085\n",
            "corr_sharpe 9.115963569140574\n",
            "corr_max_drawdown 0.0\n"
          ]
        }
      ]
    },
    {
      "cell_type": "markdown",
      "source": [
        "## Live predictions"
      ],
      "metadata": {
        "id": "-0VRY0htwuaB"
      }
    },
    {
      "cell_type": "code",
      "source": [
        "live_features = pd.read_parquet(f\"v4.3/live_int8.parquet\", columns=feature_set)\n",
        "\n",
        "live_predictions = model.predict(live_features[feature_set])\n",
        "\n",
        "pd.Series(live_predictions, index=live_features.index).to_frame(\"prediction\").to_csv(\"submission.csv\")"
      ],
      "metadata": {
        "id": "sM2VLdAwwyMu"
      },
      "execution_count": 74,
      "outputs": []
    },
    {
      "cell_type": "markdown",
      "source": [
        "## Pickle the model"
      ],
      "metadata": {
        "id": "HZO4CK7Bs6X3"
      }
    },
    {
      "cell_type": "code",
      "source": [
        "import cloudpickle\n",
        "\n",
        "def predict(live_features: pd.DataFrame) -> pd.DataFrame:\n",
        "  live_predictions = model.predict(live_features[feature_set])\n",
        "  submission = pd.Series(live_predictions, index=live_features.index)\n",
        "  return submission.to_frame(\"prediction\")\n",
        "\n",
        "p = cloudpickle.dumps(predict)\n",
        "with open(\"predict.pkl\", \"wb\") as f:\n",
        "    f.write(p)"
      ],
      "metadata": {
        "id": "9AtzzhYKs8K5"
      },
      "execution_count": 75,
      "outputs": []
    }
  ]
}